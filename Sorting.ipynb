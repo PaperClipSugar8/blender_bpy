{
 "cells": [
  {
   "cell_type": "code",
   "execution_count": null,
   "id": "d19a2c89",
   "metadata": {},
   "outputs": [],
   "source": [
    "\n",
    "# QTT4 searching element v in a sorted list\n",
    "def search(arr, v):\n",
    "  low = 0\n",
    "  high = len(arr) - 1\n",
    "  middle = (low + high) // 2\n",
    "  if arr[high] == v: return high\n",
    "  for i in range(low, high+1):\n",
    "    if arr[middle] < v: low = middle + len(arr)%2\n",
    "    if arr[middle] > v: high = middle - len(arr)%2\n",
    "    middle = (low + high) // 2\n",
    "    if arr[middle] == v:\n",
    "      return middle\n",
    "  return None"
   ]
  },
  {
   "cell_type": "code",
   "execution_count": null,
   "id": "602a42cb",
   "metadata": {},
   "outputs": [],
   "source": [
    "def merge(a, b):\n",
    "  new = []\n",
    "  while a != [] or b != []:\n",
    "    if a[0] < b[0]:\n",
    "      new.append(a[0])\n",
    "      del a[0]\n",
    "    if a == [] or b == []: break\n",
    "    if b[0] < a[0]:\n",
    "      new.append(b[0])\n",
    "      del b[0]\n",
    "    if a == [] or b == []: break\n",
    "    if a[0] == b[0]:\n",
    "      new.append(a[0])\n",
    "      new.append(b[0])\n",
    "      del a[0]\n",
    "      del b[0]\n",
    "  if a == []:\n",
    "    for i in b:\n",
    "      new.append(i)\n",
    "  if b == []:\n",
    "    for j in a:\n",
    "      new.append(j)\n",
    "  return new\n",
    "\n",
    "def mergeSort(arr):\n",
    "  if (len(arr)==1): return arr\n",
    "  middle = len(arr) // 2\n",
    "  a = arr[0:middle]\n",
    "  b = arr[middle:len(arr)]\n",
    "  return merge(mergeSort(a), mergeSort(b))"
   ]
  },
  {
   "cell_type": "code",
   "execution_count": null,
   "id": "3e4b5433",
   "metadata": {},
   "outputs": [],
   "source": [
    "# Beginning assuming no element is less than arr[right], the pivot element\n",
    "# Whenever come accross an element of value less than pivot, consider the n-1 subarray without that element\n",
    "# terminates until the pivot element is of the smallest value in n-m subarray\n",
    "def partition(arr, left, right, arrLeft=[], arrRight=[]):\n",
    "  if left > right:arrLeft.append(arrRight.pop()); return arrLeft + arrRight + arr[left:]\n",
    "  if arr[left] < arr[right]:  arrLeft.append(arr[left])\n",
    "  else: arrRight.append(arr[left])\n",
    "  return partition(arr, left+1, right, arrLeft, arrRight)\n",
    "\n",
    "\n",
    "\n",
    "def pivot(arr, left, right):\n",
    "  sp = left\n",
    "  for i in range(left, right):\n",
    "    if arr[i] < arr[right]:\n",
    "      arr[sp], arr[i] = arr[i], arr[sp]\n",
    "      sp+=1\n",
    "  arr[sp], arr[right] = arr[right], arr[sp]\n",
    "  return sp\n",
    "\n",
    "def quick(arr, left, right):\n",
    "  if right > left:\n",
    "    pivotPos = pivot(arr, left, right)\n",
    "    quick(arr, left, pivotPos-1)\n",
    "    quick(arr, pivotPos+1, right)\n",
    "    \n",
    "def quickSort(arr):\n",
    "  quick(arr, 0, len(arr)-1)\n",
    "  return arr"
   ]
  },
  {
   "cell_type": "code",
   "execution_count": null,
   "id": "24d254fb",
   "metadata": {},
   "outputs": [],
   "source": [
    "def bubbleSort(arr):\n",
    "  for i in range(0, len(arr)):\n",
    "    for j in range(0, len(arr)-1-i):\n",
    "      if arr[j] > arr[j+1]:\n",
    "        arr[j], arr[j+1] = arr[j+1], arr[j]\n",
    "  return arr"
   ]
  },
  {
   "cell_type": "code",
   "execution_count": null,
   "id": "ccc6de40",
   "metadata": {},
   "outputs": [],
   "source": [
    "def countingSort(arr):\n",
    "  book = [0] * (max(arr)+1)\n",
    "  for i in arr: book[i] += 1\n",
    "  new = []\n",
    "  for i in range(len(book)):\n",
    "    for j in range(book[i]):\n",
    "      new.append(i)\n",
    "  return new"
   ]
  },
  {
   "cell_type": "code",
   "execution_count": null,
   "id": "576ece94",
   "metadata": {},
   "outputs": [],
   "source": [
    "def selectionSort(arr):\n",
    "  for i in range(0, len(arr)):\n",
    "    print(arr)\n",
    "    mint = i\n",
    "    for j in range(i, len(arr)):\n",
    "      if arr[j] < arr[mint]: mint = j\n",
    "    arr[i], arr[mint] = arr[mint], arr[i]\n",
    "  return arr"
   ]
  },
  {
   "cell_type": "code",
   "execution_count": null,
   "id": "c650b475",
   "metadata": {},
   "outputs": [],
   "source": [
    "def insertionSort(arr):\n",
    "  subArrayIndex = 1\n",
    "  while subArrayIndex < len(arr):\n",
    "    for i in range(0, subArrayIndex):\n",
    "      if arr[subArrayIndex] < arr[i]:\n",
    "        arr[subArrayIndex], arr[i] = arr[i], arr[subArrayIndex]\n",
    "    subArrayIndex+=1\n",
    "  return arr"
   ]
  }
 ],
 "metadata": {
  "kernelspec": {
   "display_name": "Python 3 (ipykernel)",
   "language": "python",
   "name": "python3"
  },
  "language_info": {
   "codemirror_mode": {
    "name": "ipython",
    "version": 3
   },
   "file_extension": ".py",
   "mimetype": "text/x-python",
   "name": "python",
   "nbconvert_exporter": "python",
   "pygments_lexer": "ipython3",
   "version": "3.11.3"
  }
 },
 "nbformat": 4,
 "nbformat_minor": 5
}
